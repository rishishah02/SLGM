{
 "cells": [
  {
   "cell_type": "markdown",
   "metadata": {},
   "source": [
    "# Rishi Shah"
   ]
  },
  {
   "cell_type": "markdown",
   "metadata": {
    "id": "VGByrw0MT887"
   },
   "source": [
    "## Lab: Frequentists Parameter Estimation"
   ]
  },
  {
   "cell_type": "markdown",
   "metadata": {},
   "source": [
    "In this Lab, we learn how MLE works in practice, and what elements influence the estimation empirically (e.g., number of samples)."
   ]
  },
  {
   "cell_type": "code",
   "execution_count": 37,
   "metadata": {
    "colab": {
     "base_uri": "https://localhost:8080/"
    },
    "id": "lLBGA_h1x97N",
    "outputId": "0e38f9dc-9284-402f-e043-6d6b34b80165"
   },
   "outputs": [
    {
     "name": "stdout",
     "output_type": "stream",
     "text": [
      "Modules Imported!\n"
     ]
    }
   ],
   "source": [
    "%matplotlib inline\n",
    "import matplotlib.pyplot as plt\n",
    "import numpy as np\n",
    "import scipy as sp\n",
    "import scipy.stats as st\n",
    "import math\n",
    "print(\"Modules Imported!\")"
   ]
  },
  {
   "cell_type": "markdown",
   "metadata": {
    "id": "MRwB7lLRx97T"
   },
   "source": [
    "---\n",
    "### Maximum Likelihood Estimates"
   ]
  },
  {
   "cell_type": "markdown",
   "metadata": {},
   "source": [
    "Let us first implement the ML estimates found in HW2 problems 1 and 2."
   ]
  },
  {
   "cell_type": "markdown",
   "metadata": {},
   "source": [
    "__Task:__ Write a function that, given samples $\\mathbf{y} = [y_1,y_2,\\ldots,y_n]$ from Poi($\\lambda$), return MLE for $\\lambda$. **Solution of this task is given as an example.**"
   ]
  },
  {
   "cell_type": "code",
   "execution_count": 38,
   "metadata": {},
   "outputs": [],
   "source": [
    "def PoiMLE(y): # y is a one dimensional array containing n samples\n",
    "    # Begin Solution\n",
    "    return np.mean(y)\n",
    "    # End Solution"
   ]
  },
  {
   "cell_type": "markdown",
   "metadata": {},
   "source": [
    "__Task:__ (5 pts) Write a function that, given samples from Geo($\\theta$), return MLE for $\\theta$. "
   ]
  },
  {
   "cell_type": "code",
   "execution_count": 39,
   "metadata": {},
   "outputs": [],
   "source": [
    "def GeoMLE(y): # y is a one dimensional array containing n samples\n",
    "    # Begin Solution\n",
    "    return 1/np.mean(y)\n",
    "    # End Solution"
   ]
  },
  {
   "cell_type": "markdown",
   "metadata": {},
   "source": [
    "---\n",
    "### Bias, Variance and MSE"
   ]
  },
  {
   "cell_type": "markdown",
   "metadata": {},
   "source": [
    "__Task:__ (20 pts) Let $\\lambda = 5$. Generate 10,000 batches of Poi($\\lambda$) samples, each containing 10 samples. Using the function PoiMLE above, compute the ML estimates for $\\lambda$ for each batch (so you will have 10,000 estimates of $\\lambda$). Find the empirical MSE and compare it with the theoretic value. (You can also pick other values of $\\lambda$ and repeat the simulation.)"
   ]
  },
  {
   "cell_type": "code",
   "execution_count": 40,
   "metadata": {},
   "outputs": [
    {
     "name": "stdout",
     "output_type": "stream",
     "text": [
      "Empirical MSE of lambda_hat: 0.5037999999999999\n",
      "Theoretical MSE of lambda_hat: 0.5\n"
     ]
    }
   ],
   "source": [
    "lambd = 5\n",
    "mypoi = st.poisson(lambd)\n",
    "N = 10000 # number of batches\n",
    "n = 10 # samples per batch\n",
    "y = mypoi.rvs([N,n])\n",
    "# Begin Solution\n",
    "\n",
    "'''\n",
    "mse_emp = (sum(i to n) of (x - xhat)^2) /n\n",
    "\n",
    "'''\n",
    "mse_emp = np.mean(np.square(np.apply_along_axis(PoiMLE, 1, y) - lambd))\n",
    "'''\n",
    "mse_theo = lambda / n\n",
    "'''\n",
    "mse_theo = lambd/n\n",
    "\n",
    "print(\"Empirical MSE of lambda_hat:\", mse_emp)\n",
    "print(\"Theoretical MSE of lambda_hat:\", mse_theo)\n",
    "# \n",
    "# End Solution"
   ]
  },
  {
   "cell_type": "markdown",
   "metadata": {},
   "source": [
    "__Task:__ (20 pts) Let $\\theta = 0.35$. Again, generate 10,000 batches of Geo($\\theta$) samples, each containing $n=1$ sample. Using the function GeoMLE above, compute the ML estimates for $\\theta$ for each batch. Find the empirical bias and compare it with the theoretical value. Note that the bias for $n=1$ is $\\frac{\\theta}{1-\\theta}\\log\\frac{1}{\\theta}-\\theta$. (You can also pick other values of $\\theta$ and repeat the simulation.)"
   ]
  },
  {
   "cell_type": "code",
   "execution_count": 45,
   "metadata": {},
   "outputs": [
    {
     "name": "stdout",
     "output_type": "stream",
     "text": [
      "Empirical Bias of theta_hat: 0.20786317266883444\n",
      "Theoretical Bias of theta_hat: 0.2152888362685187\n"
     ]
    }
   ],
   "source": [
    "theta = 0.35\n",
    "mygeo = st.geom(theta)\n",
    "N = 10000 # number of batches\n",
    "n = 1 # samples per batch\n",
    "y = mygeo.rvs([N,n])\n",
    "# Begin Solution\n",
    "\n",
    "'''\n",
    "bias_emp = (sum(i to n) of (x - xhat)^2) /n\n",
    "\n",
    "'''\n",
    "bias_emp = np.mean(np.apply_along_axis(GeoMLE, 1, y) - theta)\n",
    "'''\n",
    "bias_theo = lambda / n\n",
    "'''\n",
    "bias_theo = (theta/(1-theta))*math.log(1/theta) - theta\n",
    "\n",
    "print(\"Empirical Bias of theta_hat:\", bias_emp)\n",
    "print(\"Theoretical Bias of theta_hat:\", bias_theo)\n",
    "\n",
    "# End Solution"
   ]
  },
  {
   "cell_type": "markdown",
   "metadata": {
    "id": "0NLj-bKIx97e"
   },
   "source": [
    "---\n",
    "### Consistency\n",
    "Intuitively, an estimator is consistent if it gives us the correct solution when we have lots of data. \n",
    "\n",
    "__Task:__ (25 pts) Generate a vector $y$ consisting of $N$ samples drawn from Geo($\\theta$) for $\\theta=0.35$, and a large value of $N$, say $N=5000$. Then compute the MLE for $\\theta$ using the first $n$ sample (that is `y[0:n]`) as $n$ ranges from 10 to $N$, choosing an appropriate step size. Plot the result and discuss it in the context of consistency. Does MLE appear to be consistent?"
   ]
  },
  {
   "cell_type": "code",
   "execution_count": 60,
   "metadata": {
    "colab": {
     "base_uri": "https://localhost:8080/",
     "height": 279
    },
    "id": "Uv2j0uqqx97f",
    "outputId": "4d1819d0-85a6-4395-a9ae-4dba3b62a670"
   },
   "outputs": [
    {
     "data": {
      "image/png": "[encoded data removed]",
      "text/plain": [
       "<Figure size 432x288 with 1 Axes>"
      ]
     },
     "metadata": {
      "needs_background": "light"
     },
     "output_type": "display_data"
    }
   ],
   "source": [
    "theta = 0.35\n",
    "# Begin Solution\n",
    "mygeo = st.geom(theta)\n",
    "N = 5000 # number of batches\n",
    "n = 1 # samples per batch\n",
    "y = mygeo.rvs(N)\n",
    "mle = []\n",
    "for i in range(0, N-10):\n",
    "    mle.append(GeoMLE(y[0:10+i]))\n",
    "mle = np.array(mle)\n",
    "true_param=np.array([theta]*(N-10))\n",
    "plt.plot(mle, label = \"MLE\")\n",
    "plt.plot(true_param, label = \"True Theta Value\")\n",
    "plt.show()\n",
    "\n",
    "# End Solution"
   ]
  },
  {
   "cell_type": "markdown",
   "metadata": {},
   "source": [
    "The MLE appears to be consistent."
   ]
  },
  {
   "cell_type": "markdown",
   "metadata": {
    "id": "LM8DqJBCx971"
   },
   "source": [
    "_____\n",
    "### Asymptotic Normality\n",
    "Consider the Gaussian distribution $\\mathcal{N}(\\mu,\\sigma^2)$. Let $\\hat\\mu$ and $\\hat\\sigma^2$ be the maximum likelihood estimators for the Gaussian mean $\\mu$ and Gaussian variance $\\sigma^2$."
   ]
  },
  {
   "cell_type": "markdown",
   "metadata": {
    "id": "XfwDVdBJx97U"
   },
   "source": [
    "__Task:__ (10 pts) Write a function that, given samples drawn from $\\mathcal{N}(\\mu,\\sigma^2)$, returns the maximum likelihood estimates of $\\mu$ and $\\sigma^2$."
   ]
  },
  {
   "cell_type": "code",
   "execution_count": 61,
   "metadata": {
    "id": "LMjzw8Nmx97W"
   },
   "outputs": [],
   "source": [
    "def NormML(y): # y is a one dimensional array containing the samples\n",
    "    # Begin Solution\n",
    "   \n",
    "    mu_hat = np.mean(y)\n",
    "    sigma2_hat = np.mean(np.square(y-mu_hat))\n",
    "   \n",
    "    # End Solution\n",
    "    return mu_hat, sigma2_hat\n",
    "    "
   ]
  },
  {
   "cell_type": "markdown",
   "metadata": {},
   "source": [
    "From the asymptotic normality of the ML estimator we have\n",
    "$$\\sqrt{n}(\\hat\\mu-\\mu)\\to \\mathcal{N}(0,I^{-1}(\\mu))$$\n",
    "where $I$ is the Fisher information and in this case equals $I(\\mu)=\\frac{1}{\\sigma^2}$.\n",
    "\n",
    "And for $\\sigma^2$,\n",
    "$$\\sqrt{n}({\\hat\\sigma^2}-\\sigma^2)\\to \\mathcal{N}(0,I^{-1}(\\sigma^2)),$$\n",
    "where $I(\\sigma^2)=1/(2\\sigma^4)$. "
   ]
  },
  {
   "cell_type": "markdown",
   "metadata": {},
   "source": [
    "__Task:__ (20 pts) Generate 10000 batches of $\\mathcal{N}(3,4)$ samples, each containing $n=10$ samples. Using the function NormML above, compute the ML estimates for $\\mu$ and $\\sigma$ for each batch (so you will have 10,000 estimates of the same $\\mu$ and $\\sigma$). \n",
    "\n",
    "Plot the histograms for the estimates (multiplied by $\\sqrt{n}$ as above) and compare them with the limit distribution given on the right side of the above expressions. Are the approximations by the limit distributions accurate to the same degree for both mean and the variance? If not, why do you think that is the case? (You can try with batches with more samples, e.g., $n=100$ or even $n = 1000$, and verify that for large batches, they become increasingly better approximations)."
   ]
  },
  {
   "cell_type": "code",
   "execution_count": 113,
   "metadata": {
    "colab": {
     "base_uri": "https://localhost:8080/",
     "height": 530
    },
    "id": "mi5mYkJ_x972",
    "outputId": "d8746f41-94e6-41fa-b48e-f895b8a79ad0"
   },
   "outputs": [
    {
     "data": {
      "image/png": "[encoded data removed]",
      "text/plain": [
       "<Figure size 432x288 with 1 Axes>"
      ]
     },
     "metadata": {
      "needs_background": "light"
     },
     "output_type": "display_data"
    },
    {
     "data": {
      "image/png": "[encoded data removed]",
      "text/plain": [
       "<Figure size 432x288 with 1 Axes>"
      ]
     },
     "metadata": {
      "needs_background": "light"
     },
     "output_type": "display_data"
    }
   ],
   "source": [
    "theta0 = [3,4] #[mean,variance]\n",
    "mynorm = st.norm(theta0[0],np.sqrt(theta0[1]))\n",
    "N = 10000 # number of batches\n",
    "n = 10 # samples per batch\n",
    "y = mynorm.rvs([N,n])\n",
    "\n",
    "# Begin Solution\n",
    "df = np.apply_along_axis(NormML,1,y)\n",
    "mu_mle, sig2_mle = df[:,0], df[:, 1]\n",
    "plt.hist(math.sqrt(n)*(mu_mle-theta0[0]), density=True, bins=math.floor(math.sqrt(N)))\n",
    "rnge = np.linspace(plt.xlim()[0], plt.xlim()[1], math.floor(math.sqrt(N)))\n",
    "p = st.norm.pdf(rnge, 0, math.sqrt(theta0[1]))\n",
    "plt.plot(rnge, p, 'red', linewidth=2)\n",
    "plt.show()\n",
    "plt.hist(math.sqrt(n)*(sig2_mle-theta0[1]), density=True, bins=math.floor(math.sqrt(N)))\n",
    "rnge = np.linspace(plt.xlim()[0], plt.xlim()[1], math.floor(math.sqrt(N)))\n",
    "p = st.norm.pdf(rnge, 0, math.sqrt(2*(theta0[1]**2)))\n",
    "plt.plot(rnge, p, 'red', linewidth=2)\n",
    "plt.show()\n",
    "# End Solution"
   ]
  },
  {
   "cell_type": "markdown",
   "metadata": {},
   "source": [
    "The approximate distribution is more accurate for the mean, while the variance looks right-skewed. When the sample size increases to n=1000, the variance closely follows the normal distribution."
   ]
  },
  {
   "cell_type": "markdown",
   "metadata": {},
   "source": [
    "---\n",
    "### Confidence interval \n",
    "\n",
    "**Solution provided for this part, but you are encouraged to try writing your own.** In problem 4 of HW2, we are trying to estimate the fraction of people who approve the job the president is doing. Let $\\hat p$ denote the ML estimate of the true fraction $p$ obtained from asking $n$ random individuals.\n",
    "\n",
    "We proved that \n",
    "$$\n",
    "\\Pr(|\\hat p- p| <\\frac{a}{2\\sqrt{n}}) \\ge 1- \\frac{1}{a^2}.\n",
    "$$\n",
    "With $a = 5$ and $n = 100$, we have at least $96\\%$ chance the absolute error of the ML estimate is less than $25\\%$. Let us verify this."
   ]
  },
  {
   "cell_type": "markdown",
   "metadata": {},
   "source": [
    "__Task:__ Suppose $p = 0.45$. Generate 10000 batches of Ber($p$) samples, each containing $n=100$ samples. Compute the ML estimates for $p$ and count the fraction of ML estimates that is within $\\frac{a}{2\\sqrt{n}}$ of $p$, $a = 5$. "
   ]
  },
  {
   "cell_type": "code",
   "execution_count": 122,
   "metadata": {},
   "outputs": [
    {
     "name": "stdout",
     "output_type": "stream",
     "text": [
      "the fraction of estiamtes that are within the 25% margin of p is  1.0\n"
     ]
    }
   ],
   "source": [
    "# Begin Solution\n",
    "def BerML(y):\n",
    "    return sum(y)/len(y)\n",
    "\n",
    "p = 0.45\n",
    "mynorm = st.bernoulli(p)\n",
    "N = 10000 # number of batches\n",
    "n = 100 # samples per batch\n",
    "y = mynorm.rvs([N,n])\n",
    "p_hats = [BerML(y[i]) for i in range(N)]\n",
    "a = 5\n",
    "margin = a / 2 /np.sqrt(n)\n",
    "frac = sum([p-margin<x<p+margin for x in p_hats])/N\n",
    "print(\"the fraction of estiamtes that are within the 25% margin of p is \", frac)\n",
    "# End Solution"
   ]
  }
 ],
 "metadata": {
  "colab": {
   "collapsed_sections": [],
   "provenance": []
  },
  "kernelspec": {
   "display_name": "Python 3 (ipykernel)",
   "language": "python",
   "name": "python3"
  },
  "language_info": {
   "codemirror_mode": {
    "name": "ipython",
    "version": 3
   },
   "file_extension": ".py",
   "mimetype": "text/x-python",
   "name": "python",
   "nbconvert_exporter": "python",
   "pygments_lexer": "ipython3",
   "version": "3.9.10"
  },
  "vscode": {
   "interpreter": {
    "hash": "6db23a115d29564fe94554c77f0f7fef756ef1faf60ced8b543275687a60869a"
   }
  }
 },
 "nbformat": 4,
 "nbformat_minor": 4
}
