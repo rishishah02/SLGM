{
 "cells": [
  {
   "cell_type": "markdown",
   "metadata": {},
   "source": [
    "# Rishi Shah"
   ]
  },
  {
   "cell_type": "code",
   "execution_count": 160,
   "metadata": {
    "colab": {
     "base_uri": "https://localhost:8080/"
    },
    "id": "lLBGA_h1x97N",
    "outputId": "a4bc9eec-80d4-43e1-c850-dc15845a7fdd"
   },
   "outputs": [
    {
     "name": "stdout",
     "output_type": "stream",
     "text": [
      "Modules Imported!\n"
     ]
    }
   ],
   "source": [
    "%matplotlib inline\n",
    "import matplotlib.pyplot as plt\n",
    "from io import StringIO\n",
    "import numpy as np\n",
    "import scipy as sp\n",
    "import scipy.stats as st\n",
    "from IPython.display import Latex,display,Math\n",
    "import pandas as pd\n",
    "import math\n",
    "print(\"Modules Imported!\")"
   ]
  },
  {
   "cell_type": "markdown",
   "metadata": {
    "id": "EXiUvcTkx975"
   },
   "source": [
    "# Bayesian Estimation"
   ]
  },
  {
   "cell_type": "markdown",
   "metadata": {
    "id": "124r0hKzx976"
   },
   "source": [
    "## Bernoulli data and Beta prior\n",
    "Suppose you are given a sample of $n$ iid Bernoulli random variables with probability of success equal to $\\theta$. \n",
    "\n",
    "__Task:__ (5 pts) Write a function that produces the frozen posterior of $\\theta$ given a Beta prior with pramaters $\\alpha$ and $\\beta$. Recall that a frozen RV is an object representing an RV with fixed parameters, e.g., \n",
    "```\n",
    "rv = st.beta(a, b)\n",
    "```\n",
    "and can be called for example to compute the pdf at a certain point as \n",
    "```\n",
    "rv.pdf(0.3)\n",
    "```"
   ]
  },
  {
   "cell_type": "code",
   "execution_count": 161,
   "metadata": {
    "id": "oKwhx8slx976"
   },
   "outputs": [],
   "source": [
    "def bayesBernBeta(data,prior):\n",
    "    \"\"\" \n",
    "    input:\n",
    "    - data is an iid sample of Bernoulli RVs\n",
    "    - prior=[alpha,beta], prior Beta parameters\n",
    "    \"\"\"\n",
    "    # Begin Solution\n",
    "    return st.beta(prior[0] + np.sum(data), prior[1] + len(data) - np.sum(data))\n",
    "    # End Solution"
   ]
  },
  {
   "cell_type": "markdown",
   "metadata": {
    "id": "vVwMz1uHx97-"
   },
   "source": [
    "___\n",
    "The data is given below, in three different sizes. "
   ]
  },
  {
   "cell_type": "code",
   "execution_count": 162,
   "metadata": {
    "id": "kFjfRb7Gx97-"
   },
   "outputs": [],
   "source": [
    "# the data is a sample of 1000 iid bernoulli rvs\n",
    "sample = np.array([0, 1, 0, 0, 0, 1, 1, 1, 1, 1, 0, 0, 1, 0, 0, 0, 1, 0, 1, 0, 0, 0, 0, 1, 0, 1, 1, 0, 0, 0, 0, 0, 1, 1, 1, 0, 1, 0, 0, 0, 1, 0, 1, 1, 0, 0, 1, 1, 1, 1, 0, 0, 0, 1, 0, 1, 1, 0, 0, 0, 1, 1, 1, 0, 1, 1, 0, 0, 0, 0, 0, 0, 0, 1, 1, 1, 0, 0, 1, 1, 0, 0, 0, 1, 0, 0, 0, 0, 1, 0, 1, 1, 1, 0, 0, 1, 0, 0, 0, 1, 0, 0, 1, 0, 1, 0, 0, 0, 0, 0, 1, 1, 1, 1, 1, 1, 0, 1, 1, 0, 0, 1, 1, 1, 1, 0, 0, 1, 1, 0, 1, 0, 1, 0, 0, 0, 0, 0, 0, 0, 1, 1, 0, 0, 1, 0, 1, 0, 0, 0, 1, 0, 1, 0, 0, 0, 0, 1, 0, 0, 0, 0, 0, 0, 0, 0, 1, 0, 0, 0, 0, 1, 1, 0, 1, 1, 1, 1, 0, 0, 1, 0, 1, 0, 0, 0, 1, 1, 1, 0, 1, 1, 0, 1, 0, 1, 1, 0, 1, 0, 1, 1, 0, 1, 0, 1, 0, 0, 0, 0, 0, 0, 0, 1, 0, 1, 1, 0, 1, 0, 0, 0, 1, 1, 0, 0, 1, 1, 0, 0, 0, 0, 0, 1, 1, 1, 1, 0, 1, 0, 0, 1, 0, 1, 0, 0, 1, 1, 0, 0, 1, 1, 1, 1, 0, 1, 1, 1, 1, 0, 1, 1, 1, 0, 1, 0, 1, 0, 1, 0, 1, 1, 0, 0, 0, 1, 1, 0, 1, 0, 1, 0, 0, 1, 1, 1, 1, 1, 1, 1, 1, 1, 1, 1, 1, 1, 0, 1, 1, 0, 1, 0, 1, 0, 1, 1, 0, 0, 1, 1, 0, 1, 1, 0, 0, 1, 0, 0, 0, 1, 1, 0, 0, 1, 1, 1, 0, 0, 1, 0, 1, 0, 1, 1, 0, 0, 1, 0, 0, 0, 1, 1, 0, 1, 1, 1, 0, 0, 0, 1, 0, 1, 0, 0, 0, 0, 0, 0, 1, 1, 0, 1, 1, 0, 1, 0, 0, 1, 1, 1, 0, 1, 0, 0, 1, 0, 0, 0, 1, 0, 1, 1, 1, 1, 1, 1, 0, 1, 1, 0, 0, 1, 1, 0, 0, 0, 0, 0, 1, 1, 0, 0, 0, 1, 0, 1, 1, 1, 0, 1, 1, 0, 1, 1, 1, 0, 1, 0, 1, 0, 1, 1, 0, 0, 1, 1, 1, 0, 0, 1, 0, 1, 1, 1, 1, 0, 1, 0, 0, 1, 1, 1, 1, 1, 1, 1, 1, 1, 0, 1, 0, 1, 0, 1, 1, 0, 0, 0, 1, 1, 0, 0, 0, 0, 1, 1, 1, 1, 0, 1, 0, 0, 0, 0, 1, 1, 0, 1, 0, 0, 0, 1, 0, 0, 1, 1, 1, 1, 1, 1, 0, 1, 0, 0, 0, 1, 0, 1, 0, 1, 0, 0, 1, 1, 0, 0, 1, 0, 1, 1, 1, 1, 0, 1, 0, 0, 0, 0, 1, 0, 0, 0, 0, 1, 0, 0, 1, 1, 0, 1, 0, 0, 0, 0, 0, 0, 0, 1, 1, 0, 0, 0, 0, 0, 1, 1, 1, 0, 0, 0, 0, 1, 0, 1, 0, 0, 0, 1, 1, 0, 0, 1, 0, 1, 0, 0, 1, 1, 1, 0, 1, 0, 0, 1, 1, 1, 0, 0, 1, 1, 0, 1, 0, 0, 1, 0, 0, 1, 1, 1, 0, 1, 1, 0, 0, 1, 0, 0, 0, 0, 0, 1, 0, 1, 0, 0, 0, 1, 0, 1, 1, 1, 1, 0, 1, 1, 0, 1, 1, 0, 1, 0, 0, 0, 0, 0, 1, 0, 0, 1, 0, 1, 1, 0, 0, 1, 0, 0, 0, 1, 0, 0, 0, 0, 0, 1, 1, 1, 0, 1, 0, 0, 0, 0, 0, 1, 1, 1, 1, 0, 0, 1, 0, 1, 1, 0, 0, 0, 1, 0, 0, 1, 0, 0, 0, 1, 0, 0, 1, 1, 1, 1, 0, 1, 0, 1, 0, 0, 1, 1, 1, 1, 1, 0, 0, 0, 0, 1, 1, 0, 0, 0, 1, 0, 1, 0, 1, 0, 0, 1, 0, 0, 0, 1, 0, 0, 0, 1, 1, 0, 0, 0, 1, 0, 1, 0, 0, 0, 0, 1, 0, 0, 0, 1, 0, 1, 1, 0, 0, 1, 0, 0, 0, 0, 0, 1, 0, 0, 1, 0, 1, 1, 0, 0, 0, 0, 1, 0, 0, 0, 1, 0, 1, 0, 0, 1, 0, 1, 1, 0, 1, 0, 0, 0, 1, 0, 1, 0, 0, 1, 0, 0, 0, 0, 1, 0, 0, 1, 0, 1, 0, 1, 0, 0, 0, 1, 0, 1, 0, 1, 0, 1, 0, 1, 1, 0, 0, 0, 0, 0, 0, 0, 1, 0, 0, 1, 1, 1, 0, 0, 0, 0, 0, 0, 0, 0, 0, 0, 0, 0, 0, 1, 0, 0, 0, 1, 1, 0, 0, 0, 0, 0, 0, 0, 1, 0, 0, 0, 1, 0, 0, 1, 0, 1, 0, 1, 0, 0, 1, 0, 1, 0, 0, 0, 0, 0, 0, 0, 1, 0, 0, 1, 1, 0, 1, 1, 1, 1, 1, 0, 0, 1, 0, 0, 0, 0, 0, 1, 0, 0, 1, 1, 1, 1, 0, 0, 0, 0, 0, 1, 1, 0, 1, 0, 1, 1, 0, 1, 1, 1, 1, 0, 1, 0, 1, 0, 0, 0, 1, 0, 0, 0, 0, 0, 0, 1, 0, 0, 0, 1, 0, 0, 0, 1, 1, 1, 1, 1, 1, 0, 0, 0, 0, 1, 1, 0, 0, 1, 0, 1, 0, 1, 1, 0, 0, 0, 0, 0, 0, 0, 1, 0, 0, 0, 0, 1, 0, 1, 0, 0, 1, 1, 0, 0, 1, 0, 1, 1, 0, 1, 0, 0, 1, 0, 1, 0, 0, 1, 0, 0, 1, 0, 0, 0, 0, 0, 0, 1, 0, 1])\n",
    "small_sample = sample[:3]\n",
    "med_sample = sample[:50]\n",
    "large_sample = sample"
   ]
  },
  {
   "cell_type": "markdown",
   "metadata": {
    "id": "qi02BzVfx98C"
   },
   "source": [
    "We will use three different beta priors:\n",
    "- non-informative: uniform: $Beta(1,1)$.\n",
    "- non-informative: Jeffery's: $Beta(1/2,1/2)$.\n",
    "- informative: we believe that the prior peaks at $\\theta = 1/3$ and furthermore, we believe that the probability that $\\theta<0.5$ is $60\\%$.\n",
    "\n",
    "__Task:__ (15 pts) For the last case, we must find the $\\alpha$ and $\\beta$ parameters for a Beta prior that satisfies the condition. Generate 9 posterior pdf plots, for different data and prior combinations and discuss their differences."
   ]
  },
  {
   "cell_type": "code",
   "execution_count": 163,
   "metadata": {},
   "outputs": [
    {
     "name": "stdout",
     "output_type": "stream",
     "text": [
      "Small Sample\n"
     ]
    },
    {
     "data": {
      "image/png": "[encoded data removed]",
      "text/plain": [
       "<Figure size 432x288 with 1 Axes>"
      ]
     },
     "metadata": {
      "needs_background": "light"
     },
     "output_type": "display_data"
    },
    {
     "name": "stdout",
     "output_type": "stream",
     "text": [
      "Medium Sample\n"
     ]
    },
    {
     "data": {
      "image/png": "[encoded data removed]",
      "text/plain": [
       "<Figure size 432x288 with 1 Axes>"
      ]
     },
     "metadata": {
      "needs_background": "light"
     },
     "output_type": "display_data"
    },
    {
     "name": "stdout",
     "output_type": "stream",
     "text": [
      "Large Sample\n"
     ]
    },
    {
     "data": {
      "image/png": "[encoded data removed]",
      "text/plain": [
       "<Figure size 432x288 with 1 Axes>"
      ]
     },
     "metadata": {
      "needs_background": "light"
     },
     "output_type": "display_data"
    }
   ],
   "source": [
    "# The priors\n",
    "r = np.linspace(0,1,1000)\n",
    "prior_unif = [1,1]\n",
    "prior_jeff = [1/2,1/2]\n",
    "# Finding the informative prior (last prior):\n",
    "# we want the mode be at 1/3, so alpha = (beta+1)/2\n",
    "# we numerically find the value of alpha using the cdf\n",
    "alpha = np.linspace(0.51,10,1000) # we start from .51 since we need beta=2*alpha-1 > 0\n",
    "cdf = np.array([st.beta.cdf(0.5,a,(2*a-1)) for a in alpha])\n",
    "alpha_inf = alpha[sum(cdf<0.60)];\n",
    "beta_inf = (2*alpha_inf-1)\n",
    "# Producing the plots\n",
    "\n",
    "# Begin Solution\n",
    "print(\"Small Sample\")\n",
    "p = bayesBernBeta(small_sample, prior_unif).pdf(r)\n",
    "plt.plot(r, p, 'blue', linewidth=1)\n",
    "p = bayesBernBeta(small_sample, prior_jeff).pdf(r)\n",
    "plt.plot(r, p, 'orange', linewidth=1)\n",
    "p = bayesBernBeta(small_sample, [alpha_inf, beta_inf]).pdf(r)\n",
    "plt.plot(r, p, 'green', linewidth=1)\n",
    "plt.show()\n",
    "print(\"Medium Sample\")\n",
    "p = bayesBernBeta(med_sample, prior_unif).pdf(r)\n",
    "plt.plot(r, p, 'blue', linewidth=1)\n",
    "p = bayesBernBeta(med_sample, prior_jeff).pdf(r)\n",
    "plt.plot(r, p, 'orange', linewidth=1)\n",
    "p = bayesBernBeta(med_sample, [alpha_inf, beta_inf]).pdf(r)\n",
    "plt.plot(r, p, 'green', linewidth=1)\n",
    "plt.show()\n",
    "print(\"Large Sample\")\n",
    "p = bayesBernBeta(large_sample, prior_unif).pdf(r)\n",
    "plt.plot(r, p, 'blue', linewidth=1)\n",
    "p = bayesBernBeta(large_sample, prior_jeff).pdf(r)\n",
    "plt.plot(r, p, 'orange', linewidth=1)\n",
    "p = bayesBernBeta(large_sample, [alpha_inf, beta_inf]).pdf(r)\n",
    "plt.plot(r, p, 'green', linewidth=1)\n",
    "plt.show()\n",
    "# End Solution"
   ]
  },
  {
   "cell_type": "markdown",
   "metadata": {
    "id": "mLO2WWvGZCU0"
   },
   "source": [
    "## Bayesian Credible Intervals using Sampling (See HW3P4)\n",
    "In the HW, we found a Bayesian credible interval using the Chebyshev inequality. Although the result is correct, there is no guarantee that the Chebyshev inequality is not too loose. Here, we consider two other computational methods for problems of this type.\n",
    "\n",
    "First, since we have the CDF, we can do a binary search, as shown below. Review and understand the purpose of each line of the code below. Find the lower and upper limits of the credible interval provided by this method."
   ]
  },
  {
   "cell_type": "code",
   "execution_count": 164,
   "metadata": {
    "colab": {
     "base_uri": "https://localhost:8080/"
    },
    "id": "tGh7KffVZGn4",
    "outputId": "af08213f-4d80-4bad-e8e7-22407636f1b6"
   },
   "outputs": [
    {
     "name": "stdout",
     "output_type": "stream",
     "text": [
      "0.4290942246203038 0.4709857114308553\n"
     ]
    }
   ],
   "source": [
    "myRV = st.beta(1125+1,1375+1)\n",
    "p_hat = (1125+1)/(2500+2)\n",
    "\n",
    "LB = 0\n",
    "UB = max([p_hat,1-p_hat])\n",
    "\n",
    "for i in range(10):\n",
    "    M = (LB+UB)/2\n",
    "    conf_lvl = myRV.cdf(p_hat+M)-myRV.cdf(p_hat-M)\n",
    "    if conf_lvl < 0.96: LB = M\n",
    "    if conf_lvl >= 0.96: UB = M\n",
    "\n",
    "# Begin Solution\n",
    "print(p_hat-UB, p_hat+UB)\n",
    "# End Solution"
   ]
  },
  {
   "cell_type": "markdown",
   "metadata": {
    "id": "CqX4KDeued6I"
   },
   "source": [
    "The second method works even when we do not have the CDF but we can draw samples from the distribution. Here, we use python to draw these samples, but as we will see, there is a method for doing so even for distributions without existing implementations (this is a big deal!). \n",
    "\n",
    "We use sampling to find the confidence level for the interval $(\\hat p-0.01,\\hat p +0.01)$, i.e., \n",
    "$$\\Pr (p\\in (\\hat p-0.01,\\hat p +0.01)|x).$$\n",
    "\n",
    "Produce 10,000 samples from the posterior distribution of $p$ and empirically estimate the above probability."
   ]
  },
  {
   "cell_type": "code",
   "execution_count": 172,
   "metadata": {},
   "outputs": [
    {
     "name": "stdout",
     "output_type": "stream",
     "text": [
      "0.6837\n"
     ]
    },
    {
     "data": {
      "image/png": "[encoded data removed]",
      "text/plain": [
       "<Figure size 432x288 with 1 Axes>"
      ]
     },
     "metadata": {
      "needs_background": "light"
     },
     "output_type": "display_data"
    }
   ],
   "source": [
    "# Begin solution\n",
    "N = 10000\n",
    "X = myRV.rvs(N)\n",
    "print(np.sum((X >= p_hat-.01) & (X<=p_hat+.01))/N)\n",
    "plt.hist(X, math.floor(math.sqrt(N)), density = True) \n",
    "rnge = np.linspace(plt.xlim()[0], plt.xlim()[1],10000)\n",
    "plt.plot(rnge,myRV.pdf(rnge),'r',linewidth=2.0)\n",
    "plt.show()\n",
    "# End solution"
   ]
  },
  {
   "cell_type": "markdown",
   "metadata": {
    "id": "GMchH4bEb-a5"
   },
   "source": [
    "## MSE of MLE and Bayesian Estimator (See HW3P2)\n",
    "Suppose we have $n$ independent samples $x_1, x_2, \\cdots, x_n$ from a Poisson distribution $Poi(\\lambda)$, where $\\lambda$ is unknown. \n",
    "\n",
    "__Task:__\n",
    "\n",
    "Write functions that provide:\n",
    "1. The Bayesian posterior pdf for λ, given the prior λ~Gamma($a$,$b$)\n",
    "1. The Bayesian mean point estimator $\\hat\\lambda_B$ with the same prior\n",
    "1. The maximum-likelihood estimator $\\hat\\lambda_{mle}$\n",
    "\n",
    "Evaluation:\n",
    "\n",
    "4. Evaluate the Bayesian estimator in the Bayesian framework by empirically finding \n",
    "$$E[(\\lambda-\\hat\\lambda_B)^2|data]$$ \n",
    "$$E[(\\lambda-\\hat\\lambda_{mle})^2|data]$$ \n",
    "through simulation by producing samples for $\\lambda$, given the `data`. Assume a prior with a = 5, b = 2. How do these compare with the theoretical result?\n",
    "\n",
    "5. Evaluate the Bayesian and ML estimators in the Frequentist framework by finding their MSE's empirically for $n=10,a=5,b=2$ and for $\\lambda = 1$ and $\\lambda = 2.5$. How do these compare with theoretical results?"
   ]
  },
  {
   "cell_type": "code",
   "execution_count": 168,
   "metadata": {},
   "outputs": [
    {
     "name": "stdout",
     "output_type": "stream",
     "text": [
      "bayes point estimate 4.470588235294118\n",
      "mle point estimate 4.733333333333333\n",
      "\n",
      "\n",
      "bayes\n",
      "empirical squared error 0.2801033285925354\n",
      "theoretical 0.2629757785467128\n",
      "\n",
      "mle\n",
      "empirical squared error 0.342967633606488\n",
      "theoretical 0.3320107650903499\n",
      "\n",
      "\n",
      "lambda 1\n",
      "\n",
      "bayes\n",
      "emperical 0.13567361111111112\n",
      "theoretical 0.13194444444444445\n",
      "\n",
      "mle\n",
      "emperical 0.10447000000000001\n",
      "theoretical 0.1\n",
      "\n",
      "\n",
      "lambda 2\n",
      "\n",
      "bayes\n",
      "emperical 0.17525694444444445\n",
      "theoretical 0.1736111111111111\n",
      "\n",
      "mle\n",
      "emperical 0.25237\n",
      "theoretical 0.25\n"
     ]
    }
   ],
   "source": [
    "def bayesPostPoiGamma(data,prior):\n",
    "    \"\"\" \n",
    "    input:\n",
    "    - data is an iid sample of Poisson RVs with mean lambda\n",
    "    - prior=[a,b], prior Gamma parameters\n",
    "    \"\"\"\n",
    "    # Begin Solution\n",
    "    return st.gamma( prior[0] + np.sum(data), loc=0, scale = 1/(prior[1] + len(data)) )\n",
    "    # End Solution\n",
    "\n",
    "def bayesMeanPoiGamma(data,prior):\n",
    "    \"\"\" \n",
    "    input:\n",
    "    - data is an iid sample of Poisson RVs with mean lambda\n",
    "    - prior=[a,b], prior Gamma parameters\n",
    "    \"\"\"\n",
    "    # Begin Solution\n",
    "    return (np.sum(data)+prior[0])/(len(data) + prior[1])\n",
    "    # End Solution  \n",
    "    \n",
    "def mlePoi(data):\n",
    "    \"\"\" \n",
    "    input:\n",
    "    - data is an iid sample of Poisson RVs with mean lambda\n",
    "    \"\"\"\n",
    "    # Begin Solution\n",
    "    return np.mean(data)\n",
    "    # End Solution  \n",
    "\n",
    "\n",
    "data_all = [ 4,  4,  1,  3,  1,  6,  6,  3,  9,  5,  5,  5,  8,  8,  3,  3, 10, 7,  5,  4,  4, 10,  4,  3,  4,  5,  2,  2,  6,  7,  2,  4, 10,  0, 4,  4,  4,  5,  4,  2,  6, 10,  8,  7,  3,  7,  3,  6,  6,  4,  7, 6,  3,  4,  5,  4,  5,  5,  5,  4,  3, 10,  6,  4,  9,  4,  9,  5, 7,  3,  5,  9,  3,  8,  3,  6,  7,  0,  9,  6,  4,  2,  8,  6,  5, 7,  6,  7,  3,  3, 11,  4,  4,  8,  5,  3,  4,  4,  7,  2]\n",
    "data = data_all[0:15]\n",
    "a = 5\n",
    "b = 2\n",
    "prior = [a,b]\n",
    "# Begin Solution (Part 4)\n",
    "print('bayes point estimate', bayesMeanPoiGamma(data, prior))\n",
    "print('mle point estimate', mlePoi(data))\n",
    "print()\n",
    "print()\n",
    "print('bayes')\n",
    "print('empirical squared error', np.mean(np.square(bayesPostPoiGamma(data,prior).rvs(100) - bayesMeanPoiGamma(data, prior))) ) \n",
    "print('theoretical', (np.sum(data) + a)/((len(data) + b)**2) )\n",
    "print()\n",
    "print('mle')\n",
    "print('empirical squared error', np.mean(np.square(bayesPostPoiGamma(data,prior).rvs(100) - mlePoi(data))) )\n",
    "print('theoretical', (np.sum(data)+a)/((len(data)+b)**2) + ((a-b*np.mean(data))/(len(data)+b))**2 )\n",
    "# End Solution (Part 4)\n",
    "\n",
    "\n",
    "lambdas = [1,2.5]\n",
    "a = 5\n",
    "b = 2\n",
    "n = 10\n",
    "N = 1000\n",
    "# Begin Solution (Part 5)\n",
    "print()\n",
    "print()\n",
    "print('lambda 1')\n",
    "lambda1 = st.poisson(1).rvs([N,n])\n",
    "print()\n",
    "print('bayes')\n",
    "print('emperical', np.mean(np.square(np.apply_along_axis(bayesMeanPoiGamma, 1, lambda1, prior) - 1)) )\n",
    "print('theoretical',(n)/((n+b)**2) +(((n+a)/(n+b) - 1)**2))\n",
    "print()\n",
    "print('mle')\n",
    "print('emperical',  np.mean(np.square(np.apply_along_axis(mlePoi, 1, lambda1) - 1)) )\n",
    "print('theoretical',1/n)\n",
    "print()\n",
    "print()\n",
    "print('lambda 2')\n",
    "lambda2_5 = st.poisson(2.5).rvs([N,n])\n",
    "print()\n",
    "print('bayes')\n",
    "print('emperical', np.mean(np.square(np.apply_along_axis(bayesMeanPoiGamma, 1, lambda2_5, prior) - 2.5)) )\n",
    "print('theoretical',(n*2.5)/((n+b)**2) +(((2.5*n+a)/(n+b) - 2.5)**2) )\n",
    "print()\n",
    "print('mle')\n",
    "print('emperical', np.mean(np.square(np.apply_along_axis(mlePoi, 1, lambda2_5) - 2.5)) )\n",
    "print('theoretical',2.5/n)\n",
    "# End Solution (Part 5)\n",
    "\n"
   ]
  }
 ],
 "metadata": {
  "colab": {
   "collapsed_sections": [],
   "provenance": []
  },
  "kernelspec": {
   "display_name": "Python 3 (ipykernel)",
   "language": "python",
   "name": "python3"
  },
  "language_info": {
   "codemirror_mode": {
    "name": "ipython",
    "version": 3
   },
   "file_extension": ".py",
   "mimetype": "text/x-python",
   "name": "python",
   "nbconvert_exporter": "python",
   "pygments_lexer": "ipython3",
   "version": "3.9.10"
  },
  "vscode": {
   "interpreter": {
    "hash": "6db23a115d29564fe94554c77f0f7fef756ef1faf60ced8b543275687a60869a"
   }
  }
 },
 "nbformat": 4,
 "nbformat_minor": 4
}
